{
 "cells": [
  {
   "cell_type": "code",
   "execution_count": 185,
   "metadata": {
    "collapsed": true
   },
   "outputs": [],
   "source": [
    "import pandas as pd\n",
    "import numpy as np\n",
    "import matplotlib.pyplot as plt"
   ]
  },
  {
   "cell_type": "markdown",
   "source": [
    "# Read vacancies data"
   ],
   "metadata": {
    "collapsed": false
   }
  },
  {
   "cell_type": "code",
   "execution_count": 186,
   "outputs": [
    {
     "data": {
      "text/plain": "   applications               company  experience  salary   \n0             2              UPPeople           3  4500.0  \\\n1             3  Akvelon Tech Ukraine           3     NaN   \n2             2              Corva.AI           3     NaN   \n3             1             SoftServe           3     NaN   \n4             1              inVerita           5     NaN   \n\n                                                tags  views  \n0                                         Python,C++     12  \n1                              Python,AWS,Kubernetes     14  \n2                                             Python      4  \n3  ROS,or ROS2,CODESYS,or DIN EN 61131 PLC progra...     18  \n4                        Python,Postgre,Nginx,Django     16  ",
      "text/html": "<div>\n<style scoped>\n    .dataframe tbody tr th:only-of-type {\n        vertical-align: middle;\n    }\n\n    .dataframe tbody tr th {\n        vertical-align: top;\n    }\n\n    .dataframe thead th {\n        text-align: right;\n    }\n</style>\n<table border=\"1\" class=\"dataframe\">\n  <thead>\n    <tr style=\"text-align: right;\">\n      <th></th>\n      <th>applications</th>\n      <th>company</th>\n      <th>experience</th>\n      <th>salary</th>\n      <th>tags</th>\n      <th>views</th>\n    </tr>\n  </thead>\n  <tbody>\n    <tr>\n      <th>0</th>\n      <td>2</td>\n      <td>UPPeople</td>\n      <td>3</td>\n      <td>4500.0</td>\n      <td>Python,C++</td>\n      <td>12</td>\n    </tr>\n    <tr>\n      <th>1</th>\n      <td>3</td>\n      <td>Akvelon Tech Ukraine</td>\n      <td>3</td>\n      <td>NaN</td>\n      <td>Python,AWS,Kubernetes</td>\n      <td>14</td>\n    </tr>\n    <tr>\n      <th>2</th>\n      <td>2</td>\n      <td>Corva.AI</td>\n      <td>3</td>\n      <td>NaN</td>\n      <td>Python</td>\n      <td>4</td>\n    </tr>\n    <tr>\n      <th>3</th>\n      <td>1</td>\n      <td>SoftServe</td>\n      <td>3</td>\n      <td>NaN</td>\n      <td>ROS,or ROS2,CODESYS,or DIN EN 61131 PLC progra...</td>\n      <td>18</td>\n    </tr>\n    <tr>\n      <th>4</th>\n      <td>1</td>\n      <td>inVerita</td>\n      <td>5</td>\n      <td>NaN</td>\n      <td>Python,Postgre,Nginx,Django</td>\n      <td>16</td>\n    </tr>\n  </tbody>\n</table>\n</div>"
     },
     "execution_count": 186,
     "metadata": {},
     "output_type": "execute_result"
    }
   ],
   "source": [
    "df = pd.read_csv(\"../scraping/vacancies.csv\")\n",
    "df.head()"
   ],
   "metadata": {
    "collapsed": false
   }
  },
  {
   "cell_type": "code",
   "execution_count": 187,
   "outputs": [
    {
     "name": "stdout",
     "output_type": "stream",
     "text": [
      "<class 'pandas.core.frame.DataFrame'>\n",
      "RangeIndex: 334 entries, 0 to 333\n",
      "Data columns (total 6 columns):\n",
      " #   Column        Non-Null Count  Dtype  \n",
      "---  ------        --------------  -----  \n",
      " 0   applications  334 non-null    int64  \n",
      " 1   company       334 non-null    object \n",
      " 2   experience    334 non-null    int64  \n",
      " 3   salary        54 non-null     float64\n",
      " 4   tags          252 non-null    object \n",
      " 5   views         334 non-null    int64  \n",
      "dtypes: float64(1), int64(3), object(2)\n",
      "memory usage: 15.8+ KB\n"
     ]
    }
   ],
   "source": [
    "df.info()"
   ],
   "metadata": {
    "collapsed": false
   }
  },
  {
   "cell_type": "markdown",
   "source": [
    "# Data cleaning and wrangling\n",
    "\n",
    "Remove `nan` values and duplicates. Converting technologies tags to categories, standardize tags."
   ],
   "metadata": {
    "collapsed": false
   }
  },
  {
   "cell_type": "code",
   "execution_count": 188,
   "outputs": [
    {
     "data": {
      "text/plain": "252"
     },
     "execution_count": 188,
     "metadata": {},
     "output_type": "execute_result"
    }
   ],
   "source": [
    "df = df[df[\"tags\"].notna()]\n",
    "len(df)"
   ],
   "metadata": {
    "collapsed": false
   }
  },
  {
   "cell_type": "code",
   "execution_count": 189,
   "outputs": [
    {
     "data": {
      "text/plain": "     applications       company  experience  salary   \n14              1  SD Solutions           5     NaN  \\\n15              0  SD Solutions           5     NaN   \n177             6        :DTeam           3     NaN   \n195             1     8allocate           5     NaN   \n223            33   OSF Digital           2     NaN   \n232            11        :DTeam           3     NaN   \n261             1     8allocate           5     NaN   \n327           121   OSF Digital           2     NaN   \n\n                                                  tags  views  \n14                                              Python     17  \n15                                              Python     12  \n177  Python,Django,Django Rest Framework,Docker,API...     67  \n195                          Python,Node.js,ML,OCR,AWS     16  \n223                    Python,API,Agile,Fluent English    162  \n232  Python,Django,Django Rest Framework,Docker,API...     67  \n261                          Python,Node.js,ML,OCR,AWS     20  \n327                    Python,API,Agile,Fluent English    397  ",
      "text/html": "<div>\n<style scoped>\n    .dataframe tbody tr th:only-of-type {\n        vertical-align: middle;\n    }\n\n    .dataframe tbody tr th {\n        vertical-align: top;\n    }\n\n    .dataframe thead th {\n        text-align: right;\n    }\n</style>\n<table border=\"1\" class=\"dataframe\">\n  <thead>\n    <tr style=\"text-align: right;\">\n      <th></th>\n      <th>applications</th>\n      <th>company</th>\n      <th>experience</th>\n      <th>salary</th>\n      <th>tags</th>\n      <th>views</th>\n    </tr>\n  </thead>\n  <tbody>\n    <tr>\n      <th>14</th>\n      <td>1</td>\n      <td>SD Solutions</td>\n      <td>5</td>\n      <td>NaN</td>\n      <td>Python</td>\n      <td>17</td>\n    </tr>\n    <tr>\n      <th>15</th>\n      <td>0</td>\n      <td>SD Solutions</td>\n      <td>5</td>\n      <td>NaN</td>\n      <td>Python</td>\n      <td>12</td>\n    </tr>\n    <tr>\n      <th>177</th>\n      <td>6</td>\n      <td>:DTeam</td>\n      <td>3</td>\n      <td>NaN</td>\n      <td>Python,Django,Django Rest Framework,Docker,API...</td>\n      <td>67</td>\n    </tr>\n    <tr>\n      <th>195</th>\n      <td>1</td>\n      <td>8allocate</td>\n      <td>5</td>\n      <td>NaN</td>\n      <td>Python,Node.js,ML,OCR,AWS</td>\n      <td>16</td>\n    </tr>\n    <tr>\n      <th>223</th>\n      <td>33</td>\n      <td>OSF Digital</td>\n      <td>2</td>\n      <td>NaN</td>\n      <td>Python,API,Agile,Fluent English</td>\n      <td>162</td>\n    </tr>\n    <tr>\n      <th>232</th>\n      <td>11</td>\n      <td>:DTeam</td>\n      <td>3</td>\n      <td>NaN</td>\n      <td>Python,Django,Django Rest Framework,Docker,API...</td>\n      <td>67</td>\n    </tr>\n    <tr>\n      <th>261</th>\n      <td>1</td>\n      <td>8allocate</td>\n      <td>5</td>\n      <td>NaN</td>\n      <td>Python,Node.js,ML,OCR,AWS</td>\n      <td>20</td>\n    </tr>\n    <tr>\n      <th>327</th>\n      <td>121</td>\n      <td>OSF Digital</td>\n      <td>2</td>\n      <td>NaN</td>\n      <td>Python,API,Agile,Fluent English</td>\n      <td>397</td>\n    </tr>\n  </tbody>\n</table>\n</div>"
     },
     "execution_count": 189,
     "metadata": {},
     "output_type": "execute_result"
    }
   ],
   "source": [
    "df[df.duplicated(subset=[\"company\", \"experience\", \"salary\", \"tags\"], keep=False)]"
   ],
   "metadata": {
    "collapsed": false
   }
  },
  {
   "cell_type": "code",
   "execution_count": 190,
   "outputs": [],
   "source": [
    "df.drop_duplicates(subset=[\"company\", \"experience\", \"salary\", \"tags\"], inplace=True, ignore_index=True)"
   ],
   "metadata": {
    "collapsed": false
   }
  },
  {
   "cell_type": "code",
   "execution_count": 191,
   "outputs": [
    {
     "data": {
      "text/plain": "248"
     },
     "execution_count": 191,
     "metadata": {},
     "output_type": "execute_result"
    }
   ],
   "source": [
    "len(df)"
   ],
   "metadata": {
    "collapsed": false
   }
  },
  {
   "cell_type": "code",
   "execution_count": 192,
   "outputs": [],
   "source": [
    "df[\"tags_category\"] = df[\"tags\"].astype(\"category\")\n",
    "df[\"tags_category\"] = df[\"tags_category\"].str.lower().str.replace(r\"python\\d\", \"python\", regex=True).str.replace(\" / \", \",\").str.replace(\"/\", \",\").str.replace(\"-\", \" \").str.replace(r\"postgre[a-z]*\", \"postgresql\", regex=True).str.replace(r\"node.*js|node\", \"node.js\", regex=True).str.replace(r\"mongo.*db|mongo\", \"mongodb\", regex=True).str.replace(r\"react.*js|react\", \"react.js\", regex=True).str.replace(r\"\\bml\\b\", \"machine learning\", regex=True).str.replace(r\"restful api|restapi|api rest\", \"rest api\", regex=True).str.replace(\"postgresql sql\", \"postgresql\").str.replace(r\"django rest(?! framework)|drf\", \"django rest framework\", regex=True).str.replace(\"fast api\", \"fastapi\").str.replace(r\"aws [a-z]+\", \"aws\", regex=True).str.replace(r\"back end|backend development\", \"backend\", regex=True).str.replace(r\"docer|docker compose\", \"docker\", regex=True).str.replace(r\"google cloud platform|gcp\", \"google cloud\", regex=True).str.replace(\"java script\", \"javascript\").str.replace(\"my sql\", \"mysql\").str.replace(\"azure cloud\", \"azure\")"
   ],
   "metadata": {
    "collapsed": false
   }
  },
  {
   "cell_type": "markdown",
   "source": [
    "Making dummies from tags categories and define TOP-25 technologies. Joining dummies to the original dataframe."
   ],
   "metadata": {
    "collapsed": false
   }
  },
  {
   "cell_type": "code",
   "execution_count": 193,
   "outputs": [],
   "source": [
    "tags_dummies = df[\"tags_category\"].str.get_dummies(\",\")\n",
    "top_25_tags = tags_dummies.sum().sort_values(ascending=False).head(25)"
   ],
   "metadata": {
    "collapsed": false
   }
  },
  {
   "cell_type": "code",
   "execution_count": 194,
   "outputs": [],
   "source": [
    "top_25_columns = top_25_tags.index.to_list()"
   ],
   "metadata": {
    "collapsed": false
   }
  },
  {
   "cell_type": "code",
   "execution_count": 195,
   "outputs": [],
   "source": [
    "df_25_tags_dummies = tags_dummies[top_25_columns]"
   ],
   "metadata": {
    "collapsed": false
   }
  },
  {
   "cell_type": "code",
   "execution_count": 196,
   "outputs": [],
   "source": [
    "df = df.join(df_25_tags_dummies)"
   ],
   "metadata": {
    "collapsed": false
   }
  },
  {
   "cell_type": "code",
   "execution_count": 197,
   "outputs": [
    {
     "data": {
      "text/plain": "   applications               company  experience  salary  views  python   \n0             2              UPPeople           3  4500.0     12       1  \\\n1             3  Akvelon Tech Ukraine           3     NaN     14       1   \n2             2              Corva.AI           3     NaN      4       1   \n3             1             SoftServe           3     NaN     18       0   \n4             1              inVerita           5     NaN     16       1   \n\n   django  aws  postgresql  react.js  ...  node.js  javascript  linux  mysql   \n0       0    0           0         0  ...        0           0      0      0  \\\n1       0    1           0         0  ...        0           0      0      0   \n2       0    0           0         0  ...        0           0      0      0   \n3       0    0           0         0  ...        0           0      0      0   \n4       1    0           1         0  ...        0           0      0      0   \n\n   mongodb  nosql  celery  redis  git  backend  \n0        0      0       0      0    0        0  \n1        0      0       0      0    0        0  \n2        0      0       0      0    0        0  \n3        0      0       0      0    0        0  \n4        0      0       0      0    0        0  \n\n[5 rows x 30 columns]",
      "text/html": "<div>\n<style scoped>\n    .dataframe tbody tr th:only-of-type {\n        vertical-align: middle;\n    }\n\n    .dataframe tbody tr th {\n        vertical-align: top;\n    }\n\n    .dataframe thead th {\n        text-align: right;\n    }\n</style>\n<table border=\"1\" class=\"dataframe\">\n  <thead>\n    <tr style=\"text-align: right;\">\n      <th></th>\n      <th>applications</th>\n      <th>company</th>\n      <th>experience</th>\n      <th>salary</th>\n      <th>views</th>\n      <th>python</th>\n      <th>django</th>\n      <th>aws</th>\n      <th>postgresql</th>\n      <th>react.js</th>\n      <th>...</th>\n      <th>node.js</th>\n      <th>javascript</th>\n      <th>linux</th>\n      <th>mysql</th>\n      <th>mongodb</th>\n      <th>nosql</th>\n      <th>celery</th>\n      <th>redis</th>\n      <th>git</th>\n      <th>backend</th>\n    </tr>\n  </thead>\n  <tbody>\n    <tr>\n      <th>0</th>\n      <td>2</td>\n      <td>UPPeople</td>\n      <td>3</td>\n      <td>4500.0</td>\n      <td>12</td>\n      <td>1</td>\n      <td>0</td>\n      <td>0</td>\n      <td>0</td>\n      <td>0</td>\n      <td>...</td>\n      <td>0</td>\n      <td>0</td>\n      <td>0</td>\n      <td>0</td>\n      <td>0</td>\n      <td>0</td>\n      <td>0</td>\n      <td>0</td>\n      <td>0</td>\n      <td>0</td>\n    </tr>\n    <tr>\n      <th>1</th>\n      <td>3</td>\n      <td>Akvelon Tech Ukraine</td>\n      <td>3</td>\n      <td>NaN</td>\n      <td>14</td>\n      <td>1</td>\n      <td>0</td>\n      <td>1</td>\n      <td>0</td>\n      <td>0</td>\n      <td>...</td>\n      <td>0</td>\n      <td>0</td>\n      <td>0</td>\n      <td>0</td>\n      <td>0</td>\n      <td>0</td>\n      <td>0</td>\n      <td>0</td>\n      <td>0</td>\n      <td>0</td>\n    </tr>\n    <tr>\n      <th>2</th>\n      <td>2</td>\n      <td>Corva.AI</td>\n      <td>3</td>\n      <td>NaN</td>\n      <td>4</td>\n      <td>1</td>\n      <td>0</td>\n      <td>0</td>\n      <td>0</td>\n      <td>0</td>\n      <td>...</td>\n      <td>0</td>\n      <td>0</td>\n      <td>0</td>\n      <td>0</td>\n      <td>0</td>\n      <td>0</td>\n      <td>0</td>\n      <td>0</td>\n      <td>0</td>\n      <td>0</td>\n    </tr>\n    <tr>\n      <th>3</th>\n      <td>1</td>\n      <td>SoftServe</td>\n      <td>3</td>\n      <td>NaN</td>\n      <td>18</td>\n      <td>0</td>\n      <td>0</td>\n      <td>0</td>\n      <td>0</td>\n      <td>0</td>\n      <td>...</td>\n      <td>0</td>\n      <td>0</td>\n      <td>0</td>\n      <td>0</td>\n      <td>0</td>\n      <td>0</td>\n      <td>0</td>\n      <td>0</td>\n      <td>0</td>\n      <td>0</td>\n    </tr>\n    <tr>\n      <th>4</th>\n      <td>1</td>\n      <td>inVerita</td>\n      <td>5</td>\n      <td>NaN</td>\n      <td>16</td>\n      <td>1</td>\n      <td>1</td>\n      <td>0</td>\n      <td>1</td>\n      <td>0</td>\n      <td>...</td>\n      <td>0</td>\n      <td>0</td>\n      <td>0</td>\n      <td>0</td>\n      <td>0</td>\n      <td>0</td>\n      <td>0</td>\n      <td>0</td>\n      <td>0</td>\n      <td>0</td>\n    </tr>\n  </tbody>\n</table>\n<p>5 rows × 30 columns</p>\n</div>"
     },
     "execution_count": 197,
     "metadata": {},
     "output_type": "execute_result"
    }
   ],
   "source": [
    "df = df.drop(columns=[\"tags\", \"tags_category\"])\n",
    "df.head()"
   ],
   "metadata": {
    "collapsed": false
   }
  },
  {
   "cell_type": "markdown",
   "source": [
    "# Analyzing data\n",
    "\n",
    "Finding correlations for data."
   ],
   "metadata": {
    "collapsed": false
   }
  },
  {
   "cell_type": "code",
   "execution_count": 198,
   "outputs": [
    {
     "data": {
      "text/plain": "salary                   1.000000\nmachine learning         0.506068\naws                      0.199316\nreact.js                 0.055015\nkubernetes              -0.001499\nmongodb                 -0.002143\nlinux                   -0.002143\npostgresql              -0.003885\ngit                     -0.024773\nflask                   -0.055690\nfastapi                 -0.055730\npython                  -0.060338\nbackend                 -0.062166\ncelery                  -0.076472\nredis                   -0.098599\nnode.js                 -0.102288\nsql                     -0.113781\nazure                   -0.113958\ndocker                  -0.126192\ndjango rest framework   -0.168257\ndjango                  -0.179159\nrest api                -0.223838\ngoogle cloud            -0.226416\njavascript              -0.338853\nnosql                   -0.339739\nmysql                         NaN\nName: salary, dtype: float64"
     },
     "execution_count": 198,
     "metadata": {},
     "output_type": "execute_result"
    }
   ],
   "source": [
    "df[[\"salary\", *top_25_columns]].corr()[\"salary\"].sort_values(ascending=False)"
   ],
   "metadata": {
    "collapsed": false
   }
  },
  {
   "cell_type": "code",
   "execution_count": 199,
   "outputs": [
    {
     "data": {
      "text/plain": "applications             1.000000\ndjango rest framework    0.180463\ndjango                   0.118068\nflask                    0.086723\nredis                    0.081896\ndocker                   0.081341\nrest api                 0.070699\nnosql                    0.044708\npostgresql               0.044295\nfastapi                  0.032342\nnode.js                  0.016862\ncelery                   0.014033\nsql                      0.007372\nmysql                   -0.006178\ngit                     -0.011180\nlinux                   -0.013265\njavascript              -0.018125\ngoogle cloud            -0.020626\nmachine learning        -0.023048\npython                  -0.025664\nmongodb                 -0.035255\nbackend                 -0.055700\naws                     -0.056255\nazure                   -0.079767\nkubernetes              -0.084977\nreact.js                -0.186744\nName: applications, dtype: float64"
     },
     "execution_count": 199,
     "metadata": {},
     "output_type": "execute_result"
    }
   ],
   "source": [
    "df[[\"applications\", *top_25_columns]].corr()[\"applications\"].sort_values(ascending=False)"
   ],
   "metadata": {
    "collapsed": false
   }
  },
  {
   "cell_type": "code",
   "execution_count": 200,
   "outputs": [
    {
     "data": {
      "text/plain": "experience               1.000000\naws                      0.219710\nreact.js                 0.196520\ngoogle cloud             0.151587\npython                   0.110330\nkubernetes               0.101470\nazure                    0.085717\nmysql                    0.082899\npostgresql               0.049409\ngit                      0.044080\ndjango                   0.032857\nlinux                    0.012894\nnode.js                  0.003535\ndocker                  -0.001260\nnosql                   -0.006748\nbackend                 -0.016661\nsql                     -0.018631\nmongodb                 -0.036630\njavascript              -0.037556\nfastapi                 -0.043350\ncelery                  -0.044107\nflask                   -0.067028\nrest api                -0.089556\nredis                   -0.106973\ndjango rest framework   -0.114165\nmachine learning        -0.159388\nName: experience, dtype: float64"
     },
     "execution_count": 200,
     "metadata": {},
     "output_type": "execute_result"
    }
   ],
   "source": [
    "df[[\"experience\", *top_25_columns]].corr()[\"experience\"].sort_values(ascending=False)"
   ],
   "metadata": {
    "collapsed": false
   }
  },
  {
   "cell_type": "code",
   "execution_count": 201,
   "outputs": [
    {
     "data": {
      "text/plain": "views                    1.000000\ndjango rest framework    0.199292\nredis                    0.098348\ndjango                   0.082264\ndocker                   0.065458\npostgresql               0.048263\nflask                    0.045897\nrest api                 0.045608\nnode.js                  0.044714\ncelery                   0.020636\nmachine learning         0.019541\njavascript               0.008820\nnosql                    0.008786\nlinux                    0.007355\nsql                      0.007179\nfastapi                 -0.005897\ngit                     -0.007152\npython                  -0.012257\nmongodb                 -0.027711\nbackend                 -0.037391\nmysql                   -0.046314\ngoogle cloud            -0.061984\nkubernetes              -0.068857\nazure                   -0.083270\naws                     -0.094864\nreact.js                -0.198519\nName: views, dtype: float64"
     },
     "execution_count": 201,
     "metadata": {},
     "output_type": "execute_result"
    }
   ],
   "source": [
    "df[[\"views\", *top_25_columns]].corr()[\"views\"].sort_values(ascending=False)"
   ],
   "metadata": {
    "collapsed": false
   }
  },
  {
   "cell_type": "code",
   "execution_count": 202,
   "outputs": [
    {
     "data": {
      "text/plain": "views          -0.558358\napplications   -0.613206\nsalary          1.000000\nName: salary, dtype: float64"
     },
     "execution_count": 202,
     "metadata": {},
     "output_type": "execute_result"
    }
   ],
   "source": [
    "df[[\"views\", \"applications\", \"salary\"]].corr()[\"salary\"]"
   ],
   "metadata": {
    "collapsed": false
   }
  },
  {
   "cell_type": "code",
   "execution_count": 203,
   "outputs": [
    {
     "data": {
      "text/plain": "views          -0.612420\napplications   -0.554883\nexperience      1.000000\nName: experience, dtype: float64"
     },
     "execution_count": 203,
     "metadata": {},
     "output_type": "execute_result"
    }
   ],
   "source": [
    "df[[\"views\", \"applications\", \"experience\"]].corr()[\"experience\"]"
   ],
   "metadata": {
    "collapsed": false
   }
  },
  {
   "cell_type": "markdown",
   "source": [
    "# Visualizing data\n",
    "\n",
    "Making bar chart with TOP-25 technologies."
   ],
   "metadata": {
    "collapsed": false
   }
  },
  {
   "cell_type": "code",
   "execution_count": 204,
   "outputs": [
    {
     "data": {
      "text/plain": "Text(0.5, 1.0, 'Top 25 technologies from Python Developer vacancies')"
     },
     "execution_count": 204,
     "metadata": {},
     "output_type": "execute_result"
    },
    {
     "data": {
      "text/plain": "<Figure size 1000x500 with 1 Axes>",
      "image/png": "[encoded data removed]"
     },
     "metadata": {},
     "output_type": "display_data"
    }
   ],
   "source": [
    "top_25_technologies = df_25_tags_dummies.sum()\n",
    "plt.figure(figsize=(10, 5))\n",
    "plt.bar(top_25_technologies.index, top_25_technologies.values)\n",
    "plt.xticks(rotation=90)\n",
    "plt.title(\"Top 25 technologies from Python Developer vacancies\")"
   ],
   "metadata": {
    "collapsed": false
   }
  }
 ],
 "metadata": {
  "kernelspec": {
   "display_name": "Python 3",
   "language": "python",
   "name": "python3"
  },
  "language_info": {
   "codemirror_mode": {
    "name": "ipython",
    "version": 2
   },
   "file_extension": ".py",
   "mimetype": "text/x-python",
   "name": "python",
   "nbconvert_exporter": "python",
   "pygments_lexer": "ipython2",
   "version": "2.7.6"
  }
 },
 "nbformat": 4,
 "nbformat_minor": 0
}
